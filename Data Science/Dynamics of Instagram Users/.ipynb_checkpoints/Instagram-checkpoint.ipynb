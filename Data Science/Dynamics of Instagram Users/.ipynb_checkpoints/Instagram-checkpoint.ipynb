{
 "cells": [
  {
   "cell_type": "code",
   "execution_count": 2,
   "id": "d55c2405",
   "metadata": {},
   "outputs": [],
   "source": [
    "# imports\n",
    "\n",
    "import pandas as pd\n",
    "import numpy as np\n",
    "import seaborn as sns\n",
    "import matplotlib.pyplot as plt\n",
    "import math"
   ]
  },
  {
   "cell_type": "code",
   "execution_count": 52,
   "id": "78596b8e",
   "metadata": {},
   "outputs": [
    {
     "data": {
      "text/html": [
       "<div>\n",
       "<style scoped>\n",
       "    .dataframe tbody tr th:only-of-type {\n",
       "        vertical-align: middle;\n",
       "    }\n",
       "\n",
       "    .dataframe tbody tr th {\n",
       "        vertical-align: top;\n",
       "    }\n",
       "\n",
       "    .dataframe thead th {\n",
       "        text-align: right;\n",
       "    }\n",
       "</style>\n",
       "<table border=\"1\" class=\"dataframe\">\n",
       "  <thead>\n",
       "    <tr style=\"text-align: right;\">\n",
       "      <th></th>\n",
       "      <th>Users</th>\n",
       "      <th>Number of Posts</th>\n",
       "      <th>Number of Followers</th>\n",
       "      <th>Number of Followings</th>\n",
       "      <th>Number of Likes for the Tenth Previous Post</th>\n",
       "      <th>Number of Likes for the Eleventh Previous Post</th>\n",
       "      <th>Number of Likes for the Twelfth Previous Post</th>\n",
       "      <th>Number of Self-Presenting Posts from Nine Previous Posts</th>\n",
       "      <th>Gender</th>\n",
       "    </tr>\n",
       "  </thead>\n",
       "  <tbody>\n",
       "    <tr>\n",
       "      <th>0</th>\n",
       "      <td>User-1</td>\n",
       "      <td>486</td>\n",
       "      <td>279</td>\n",
       "      <td>19</td>\n",
       "      <td>15</td>\n",
       "      <td>10</td>\n",
       "      <td>17</td>\n",
       "      <td>0</td>\n",
       "      <td>m</td>\n",
       "    </tr>\n",
       "    <tr>\n",
       "      <th>1</th>\n",
       "      <td>User-2</td>\n",
       "      <td>401</td>\n",
       "      <td>5509</td>\n",
       "      <td>342</td>\n",
       "      <td>360</td>\n",
       "      <td>440</td>\n",
       "      <td>428</td>\n",
       "      <td>0</td>\n",
       "      <td>f</td>\n",
       "    </tr>\n",
       "    <tr>\n",
       "      <th>2</th>\n",
       "      <td>User-3</td>\n",
       "      <td>463</td>\n",
       "      <td>453</td>\n",
       "      <td>293</td>\n",
       "      <td>65</td>\n",
       "      <td>68</td>\n",
       "      <td>149</td>\n",
       "      <td>4</td>\n",
       "      <td>f</td>\n",
       "    </tr>\n",
       "    <tr>\n",
       "      <th>3</th>\n",
       "      <td>User-4</td>\n",
       "      <td>154</td>\n",
       "      <td>1231</td>\n",
       "      <td>1477</td>\n",
       "      <td>53</td>\n",
       "      <td>22</td>\n",
       "      <td>35</td>\n",
       "      <td>3</td>\n",
       "      <td>m</td>\n",
       "    </tr>\n",
       "    <tr>\n",
       "      <th>4</th>\n",
       "      <td>User-5</td>\n",
       "      <td>786</td>\n",
       "      <td>9620</td>\n",
       "      <td>421</td>\n",
       "      <td>623</td>\n",
       "      <td>1299</td>\n",
       "      <td>544</td>\n",
       "      <td>0</td>\n",
       "      <td>m</td>\n",
       "    </tr>\n",
       "  </tbody>\n",
       "</table>\n",
       "</div>"
      ],
      "text/plain": [
       "    Users  Number of Posts  Number of Followers  Number of Followings  \\\n",
       "0  User-1              486                  279                    19   \n",
       "1  User-2              401                 5509                   342   \n",
       "2  User-3              463                  453                   293   \n",
       "3  User-4              154                 1231                  1477   \n",
       "4  User-5              786                 9620                   421   \n",
       "\n",
       "   Number of Likes for the Tenth Previous Post  \\\n",
       "0                                           15   \n",
       "1                                          360   \n",
       "2                                           65   \n",
       "3                                           53   \n",
       "4                                          623   \n",
       "\n",
       "   Number of Likes for the Eleventh Previous Post  \\\n",
       "0                                              10   \n",
       "1                                             440   \n",
       "2                                              68   \n",
       "3                                              22   \n",
       "4                                            1299   \n",
       "\n",
       "   Number of Likes for the Twelfth Previous Post  \\\n",
       "0                                             17   \n",
       "1                                            428   \n",
       "2                                            149   \n",
       "3                                             35   \n",
       "4                                            544   \n",
       "\n",
       "   Number of Self-Presenting Posts from Nine Previous Posts Gender  \n",
       "0                                                  0             m  \n",
       "1                                                  0             f  \n",
       "2                                                  4             f  \n",
       "3                                                  3             m  \n",
       "4                                                  0             m  "
      ]
     },
     "execution_count": 52,
     "metadata": {},
     "output_type": "execute_result"
    }
   ],
   "source": [
    "# cek data\n",
    "df_insta = pd.read_excel('Dataset.xlsx')\n",
    "df_insta = df_insta.dropna().rename(columns = {' Gender':'Gender'})\n",
    "df_insta.head()"
   ]
  },
  {
   "cell_type": "code",
   "execution_count": 53,
   "id": "4afb1997",
   "metadata": {},
   "outputs": [
    {
     "name": "stdout",
     "output_type": "stream",
     "text": [
      "['Users', 'Number of Posts', 'Number of Followers', 'Number of Followings', 'Number of Likes for the Tenth Previous Post', 'Number of Likes for the Eleventh Previous Post', 'Number of Likes for the Twelfth Previous Post', 'Number of Self-Presenting Posts from Nine Previous Posts', 'Gender']\n"
     ]
    }
   ],
   "source": [
    "# list columns\n",
    "\n",
    "col = df_insta.columns.tolist()\n",
    "print(col)"
   ]
  },
  {
   "cell_type": "code",
   "execution_count": 56,
   "id": "ca46fddb",
   "metadata": {},
   "outputs": [
    {
     "name": "stdout",
     "output_type": "stream",
     "text": [
      "761393 780668\n"
     ]
    }
   ],
   "source": [
    "male = df_insta.loc[df_insta['Gender'] == 'm', 'Number of Followers'].sum()\n",
    "female = df_insta.loc[df_insta['Gender'] == 'f', 'Number of Followers'].sum()\n",
    "print(male, female)"
   ]
  },
  {
   "cell_type": "code",
   "execution_count": 125,
   "id": "c508ce60",
   "metadata": {},
   "outputs": [
    {
     "data": {
      "text/plain": [
       "760000"
      ]
     },
     "execution_count": 125,
     "metadata": {},
     "output_type": "execute_result"
    }
   ],
   "source": [
    "def rumus (kntl):\n",
    "    hasil = 10**(len(str(kntl))-2)\n",
    "    return hasil\n",
    "\n",
    "def floor (b1):\n",
    "    lenb1 = b1 / rumus(b1)\n",
    "    result = math.floor(lenb1) * rumus(b1)\n",
    "    return result\n",
    "\n"
   ]
  },
  {
   "cell_type": "code",
   "execution_count": 144,
   "id": "cc7586f9",
   "metadata": {},
   "outputs": [
    {
     "data": {
      "text/plain": [
       "[744375, 795625]"
      ]
     },
     "execution_count": 144,
     "metadata": {},
     "output_type": "execute_result"
    }
   ],
   "source": [
    "def mmk (mmk):\n",
    "    mmk = 5**(len(str(mmk)))\n",
    "    return mmk\n",
    "\n",
    "def newfloor (b1,b2):\n",
    "    arr = []\n",
    "    b1 = floor(b1)\n",
    "    b2 = floor(b2)\n",
    "    if b1 < b2:\n",
    "        arr.append(b1 - mmk(b1))\n",
    "        arr.append(b2 + mmk(b2))\n",
    "    elif b1 > b2:\n",
    "        arr.append(b1 + mmk(b1))\n",
    "        arr.append(b2 - mmk(b2))\n",
    "    else:\n",
    "        pass\n",
    "    return arr\n"
   ]
  },
  {
   "cell_type": "code",
   "execution_count": 148,
   "id": "a0e1b85f",
   "metadata": {},
   "outputs": [
    {
     "data": {
      "image/png": "[encoded data removed]",
      "text/plain": [
       "<Figure size 640x480 with 1 Axes>"
      ]
     },
     "metadata": {},
     "output_type": "display_data"
    }
   ],
   "source": [
    "data = [male, female]\n",
    "x = [1, 2]\n",
    "labels = ['Male', 'Female']\n",
    "\n",
    "plt.bar(x, data)\n",
    "plt.xticks(x, labels)\n",
    "plt.ylim(ylim) # set the y-axis limits to 750000 and 800000\n",
    "\n",
    "for i, v in enumerate(data):\n",
    "    plt.text(x[i] - 0.1,v + 1000, str(v), color='red', fontweight='bold')\n",
    "\n",
    "plt.show()"
   ]
  },
  {
   "cell_type": "code",
   "execution_count": 39,
   "id": "02b2b610",
   "metadata": {},
   "outputs": [
    {
     "data": {
      "text/plain": [
       "1092970"
      ]
     },
     "execution_count": 39,
     "metadata": {},
     "output_type": "execute_result"
    }
   ],
   "source": [
    "df_insta.loc[df_insta['Gender'] == 'm', 'Number of Followings'].sum()"
   ]
  },
  {
   "cell_type": "code",
   "execution_count": 59,
   "id": "d5b5b14b",
   "metadata": {},
   "outputs": [
    {
     "name": "stdout",
     "output_type": "stream",
     "text": [
      "[100000, 200000, 300000, 400000, 500000, 600000, 700000]\n"
     ]
    }
   ],
   "source": [
    "def xticks():\n",
    "    ticks = []\n",
    "    for i in range(1,8):\n",
    "        ticks.append(i * 100000)\n",
    "    return ticks\n",
    "\n",
    "xticks = xticks()\n",
    "print(xticks)"
   ]
  },
  {
   "cell_type": "code",
   "execution_count": 29,
   "id": "9f281810",
   "metadata": {},
   "outputs": [
    {
     "data": {
      "image/png": "[encoded data removed]",
      "text/plain": [
       "<Figure size 640x480 with 1 Axes>"
      ]
     },
     "metadata": {},
     "output_type": "display_data"
    }
   ],
   "source": [
    "# fig, ax = plt.subplots()\n",
    "plt.bar(['Male', 'Female'], [male, female]) \n",
    "plt.title('Number of Instagram Followers by Gender')\n",
    "plt.xlabel('Gender')\n",
    "plt.ylabel('Number of Followers')\n",
    "plt.ylim(750000, 800000)\n",
    "plt.show()"
   ]
  }
 ],
 "metadata": {
  "kernelspec": {
   "display_name": "Python 3 (ipykernel)",
   "language": "python",
   "name": "python3"
  },
  "language_info": {
   "codemirror_mode": {
    "name": "ipython",
    "version": 3
   },
   "file_extension": ".py",
   "mimetype": "text/x-python",
   "name": "python",
   "nbconvert_exporter": "python",
   "pygments_lexer": "ipython3",
   "version": "3.11.2"
  }
 },
 "nbformat": 4,
 "nbformat_minor": 5
}
