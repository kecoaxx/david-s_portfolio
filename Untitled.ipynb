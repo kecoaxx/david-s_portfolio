{
 "cells": [
  {
   "cell_type": "code",
   "execution_count": 7,
   "id": "0b3788ef",
   "metadata": {},
   "outputs": [
    {
     "ename": "NotADirectoryError",
     "evalue": "[WinError 267] The directory name is invalid: 'C:\\\\Desktop\\\\joel\\\\kopi tepi lereng\\\\foto\\\\New folder\\\\Tepi Lereng\\\\menu\\\\DSC07622.JPG'",
     "output_type": "error",
     "traceback": [
      "\u001b[1;31m---------------------------------------------------------------------------\u001b[0m",
      "\u001b[1;31mNotADirectoryError\u001b[0m                        Traceback (most recent call last)",
      "Cell \u001b[1;32mIn[7], line 19\u001b[0m\n\u001b[0;32m     17\u001b[0m \u001b[38;5;28;01mfor\u001b[39;00m folder_name \u001b[38;5;129;01min\u001b[39;00m folder_names:\n\u001b[0;32m     18\u001b[0m     folder_path \u001b[38;5;241m=\u001b[39m os\u001b[38;5;241m.\u001b[39mpath\u001b[38;5;241m.\u001b[39mjoin(path, folder_name)\n\u001b[1;32m---> 19\u001b[0m     photo_names \u001b[38;5;241m=\u001b[39m \u001b[43mos\u001b[49m\u001b[38;5;241;43m.\u001b[39;49m\u001b[43mlistdir\u001b[49m\u001b[43m(\u001b[49m\u001b[43mfolder_path\u001b[49m\u001b[43m)\u001b[49m\n\u001b[0;32m     20\u001b[0m     photo_name \u001b[38;5;241m=\u001b[39m random\u001b[38;5;241m.\u001b[39mchoice(photo_names)\n\u001b[0;32m     21\u001b[0m     photo_path \u001b[38;5;241m=\u001b[39m os\u001b[38;5;241m.\u001b[39mpath\u001b[38;5;241m.\u001b[39mjoin(folder_path, photo_name)\n",
      "\u001b[1;31mNotADirectoryError\u001b[0m: [WinError 267] The directory name is invalid: 'C:\\\\Desktop\\\\joel\\\\kopi tepi lereng\\\\foto\\\\New folder\\\\Tepi Lereng\\\\menu\\\\DSC07622.JPG'"
     ]
    }
   ],
   "source": [
    "import os\n",
    "import random\n",
    "import shutil\n",
    "\n",
    "# Set the path to the folders with photos\n",
    "path = r'C:\\Desktop\\joel\\kopi tepi lereng\\foto\\New folder\\Tepi Lereng\\menu'\n",
    "\n",
    "# Get a list of all the folder names\n",
    "folder_names = os.listdir(path)\n",
    "\n",
    "# Create the 'product' folder if it doesn't already exist\n",
    "product_folder = os.path.join(path, 'product')\n",
    "if not os.path.exists(product_folder):\n",
    "    os.mkdir(product_folder)\n",
    "\n",
    "# Loop through each folder and choose a random photo\n",
    "for folder_name in folder_names:\n",
    "    folder_path = os.path.join(path, folder_name)\n",
    "    photo_names = os.listdir(folder_path)\n",
    "    photo_name = random.choice(photo_names)\n",
    "    photo_path = os.path.join(folder_path, photo_name)\n",
    "    \n",
    "    # Copy the photo to the 'product' folder with the folder name as the new name\n",
    "    new_name = f'{folder_name}.jpg'\n",
    "    new_path = os.path.join(product_folder, new_name)\n",
    "    shutil.copy(photo_path, new_path)\n"
   ]
  },
  {
   "cell_type": "code",
   "execution_count": 8,
   "id": "a3013c70",
   "metadata": {},
   "outputs": [],
   "source": [
    "import os\n",
    "import random\n",
    "import shutil\n",
    "\n",
    "# Set the path to the folders with photos\n",
    "path = r'C:\\Desktop\\joel\\kopi tepi lereng\\foto\\New folder\\Tepi Lereng\\menu'\n",
    "\n",
    "# Get a list of all the folder names\n",
    "folder_names = os.listdir(path)\n",
    "\n",
    "# Create the 'product' folder if it doesn't already exist\n",
    "product_folder = os.path.join(path, 'product')\n",
    "if not os.path.exists(product_folder):\n",
    "    os.mkdir(product_folder)\n",
    "\n",
    "# Loop through each folder and choose a random photo\n",
    "for folder_name in folder_names:\n",
    "    folder_path = os.path.join(path, folder_name)\n",
    "    if os.path.isdir(folder_path):\n",
    "        photo_names = os.listdir(folder_path)\n",
    "        photo_name = random.choice(photo_names)\n",
    "        photo_path = os.path.join(folder_path, photo_name)\n",
    "        \n",
    "        # Copy the photo to the 'product' folder with the folder name as the new name\n",
    "        new_name = f'{folder_name}.jpg'\n",
    "        new_path = os.path.join(product_folder, new_name)\n",
    "        shutil.copy(photo_path, new_path)\n"
   ]
  }
 ],
 "metadata": {
  "kernelspec": {
   "display_name": "Python 3 (ipykernel)",
   "language": "python",
   "name": "python3"
  },
  "language_info": {
   "codemirror_mode": {
    "name": "ipython",
    "version": 3
   },
   "file_extension": ".py",
   "mimetype": "text/x-python",
   "name": "python",
   "nbconvert_exporter": "python",
   "pygments_lexer": "ipython3",
   "version": "3.11.2"
  }
 },
 "nbformat": 4,
 "nbformat_minor": 5
}
